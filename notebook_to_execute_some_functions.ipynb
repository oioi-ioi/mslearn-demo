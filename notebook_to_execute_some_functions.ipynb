{
    "cells": [
        {
            "cell_type": "markdown",
            "source": [
                "### The purpose of this notebook is to get used to github"
            ],
            "metadata": {}
        },
        {
            "cell_type": "code",
            "execution_count": 7,
            "source": [
                "from some_functions import factorial, fibonacci, fibonacci_like"
            ],
            "outputs": [],
            "metadata": {}
        },
        {
            "cell_type": "code",
            "execution_count": 2,
            "source": [
                "factorials = [factorial(i) for i in range(10)]\n",
                "print(factorials)"
            ],
            "outputs": [
                {
                    "output_type": "stream",
                    "name": "stdout",
                    "text": [
                        "[1, 1, 2, 6, 24, 120, 720, 5040, 40320, 362880]\n"
                    ]
                }
            ],
            "metadata": {}
        },
        {
            "cell_type": "code",
            "execution_count": 3,
            "source": [
                "fibonaccis = [fibonacci(i) for i in range(10)]\n",
                "print(fibonaccis)"
            ],
            "outputs": [
                {
                    "output_type": "stream",
                    "name": "stdout",
                    "text": [
                        "[1, 1, 2, 3, 5, 8, 13, 21, 34, 55]\n"
                    ]
                }
            ],
            "metadata": {}
        },
        {
            "cell_type": "code",
            "execution_count": 4,
            "source": [
                "fac_times_fib = [factorial(i) * fibonacci(i) for i in range(10)]\n",
                "print(fac_times_fib)"
            ],
            "outputs": [
                {
                    "output_type": "stream",
                    "name": "stdout",
                    "text": [
                        "[1, 1, 4, 18, 120, 960, 9360, 105840, 1370880, 19958400]\n"
                    ]
                }
            ],
            "metadata": {}
        },
        {
            "cell_type": "code",
            "execution_count": 5,
            "source": [
                "powers_of_products = [i**2 for i in fac_times_fib]\n",
                "print(powers_of_products)"
            ],
            "outputs": [
                {
                    "output_type": "stream",
                    "name": "stdout",
                    "text": [
                        "[1, 1, 16, 324, 14400, 921600, 87609600, 11202105600, 1879311974400, 398337730560000]\n"
                    ]
                }
            ],
            "metadata": {}
        },
        {
            "cell_type": "code",
            "execution_count": 8,
            "source": [
                "fibonacci_likes = [fibonacci_like(i) for i in range(10)]\n",
                "print(fibonacci_likes)"
            ],
            "outputs": [
                {
                    "output_type": "stream",
                    "name": "stdout",
                    "text": [
                        "[1, 1, 3, 5, 9, 17, 31, 57, 105, 193]\n"
                    ]
                }
            ],
            "metadata": {}
        },
        {
            "cell_type": "markdown",
            "source": [
                "#### Something is wrong with that fibbonacci_like function! It is fixed now."
            ],
            "metadata": {}
        },
        {
            "cell_type": "code",
            "execution_count": null,
            "source": [],
            "outputs": [],
            "metadata": {}
        }
    ],
    "metadata": {
        "orig_nbformat": 4,
        "language_info": {
            "name": "python",
            "version": "3.8.10",
            "mimetype": "text/x-python",
            "codemirror_mode": {
                "name": "ipython",
                "version": 3
            },
            "pygments_lexer": "ipython3",
            "nbconvert_exporter": "python",
            "file_extension": ".py"
        },
        "kernelspec": {
            "name": "python3",
            "display_name": "Python 3.8.10 64-bit ('base': conda)"
        },
        "interpreter": {
            "hash": "7fe42b790bfbec5d7cfc138f2bfd1724919e0a25f3e83548056356cdd911a40a"
        }
    },
    "nbformat": 4,
    "nbformat_minor": 2
}