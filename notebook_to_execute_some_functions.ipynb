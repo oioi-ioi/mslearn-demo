{
    "cells": [
        {
            "cell_type": "code",
            "execution_count": 4,
            "source": [
                "from some_functions import factorial, fibonacci"
            ],
            "outputs": [],
            "metadata": {}
        },
        {
            "cell_type": "code",
            "execution_count": 5,
            "source": [
                "factorials = [factorial(i) for i in range(10)]\n",
                "print(factorials)"
            ],
            "outputs": [
                {
                    "output_type": "stream",
                    "name": "stdout",
                    "text": [
                        "[1, 1, 2, 6, 24, 120, 720, 5040, 40320, 362880]\n"
                    ]
                }
            ],
            "metadata": {}
        },
        {
            "cell_type": "code",
            "execution_count": 6,
            "source": [
                "fibonaccis = [fibonacci(i) for i in range(10)]\n",
                "print(fibonaccis)"
            ],
            "outputs": [
                {
                    "output_type": "stream",
                    "name": "stdout",
                    "text": [
                        "[1, 1, 2, 3, 5, 8, 13, 21, 34, 55]\n"
                    ]
                }
            ],
            "metadata": {}
        },
        {
            "cell_type": "code",
            "execution_count": 7,
            "source": [
                "fac_times_fib = [factorial(i) * fibonacci(i) for i in range(10)]\n",
                "print(fac_times_fib)"
            ],
            "outputs": [
                {
                    "output_type": "stream",
                    "name": "stdout",
                    "text": [
                        "[1, 1, 4, 18, 120, 960, 9360, 105840, 1370880, 19958400]\n"
                    ]
                }
            ],
            "metadata": {}
        },
        {
            "cell_type": "code",
            "execution_count": null,
            "source": [],
            "outputs": [],
            "metadata": {}
        }
    ],
    "metadata": {
        "orig_nbformat": 4,
        "language_info": {
            "name": "python",
            "version": "3.8.10",
            "mimetype": "text/x-python",
            "codemirror_mode": {
                "name": "ipython",
                "version": 3
            },
            "pygments_lexer": "ipython3",
            "nbconvert_exporter": "python",
            "file_extension": ".py"
        },
        "kernelspec": {
            "name": "python3",
            "display_name": "Python 3.8.10 64-bit ('base': conda)"
        },
        "interpreter": {
            "hash": "7fe42b790bfbec5d7cfc138f2bfd1724919e0a25f3e83548056356cdd911a40a"
        }
    },
    "nbformat": 4,
    "nbformat_minor": 2
}