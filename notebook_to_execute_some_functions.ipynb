{
    "cells": [
        {
            "cell_type": "markdown",
            "source": [
                "### The purpose of this notebook is to get used to github"
            ],
            "metadata": {}
        },
        {
            "cell_type": "code",
            "execution_count": 1,
            "source": [
                "from some_functions import factorial, fibonacci, fibonacci_like, binomial"
            ],
            "outputs": [],
            "metadata": {}
        },
        {
            "cell_type": "code",
            "execution_count": 2,
            "source": [
                "factorials = [factorial(i) for i in range(10)]\n",
                "print(factorials)"
            ],
            "outputs": [
                {
                    "output_type": "stream",
                    "name": "stdout",
                    "text": [
                        "[1, 1, 2, 6, 24, 120, 720, 5040, 40320, 362880]\n"
                    ]
                }
            ],
            "metadata": {}
        },
        {
            "cell_type": "code",
            "execution_count": 3,
            "source": [
                "fibonaccis = [fibonacci(i) for i in range(10)]\n",
                "print(fibonaccis)"
            ],
            "outputs": [
                {
                    "output_type": "stream",
                    "name": "stdout",
                    "text": [
                        "[1, 1, 2, 3, 5, 8, 13, 21, 34, 55]\n"
                    ]
                }
            ],
            "metadata": {}
        },
        {
            "cell_type": "code",
            "execution_count": 4,
            "source": [
                "fac_times_fib = [factorial(i) * fibonacci(i) for i in range(10)]\n",
                "print(fac_times_fib)"
            ],
            "outputs": [
                {
                    "output_type": "stream",
                    "name": "stdout",
                    "text": [
                        "[1, 1, 4, 18, 120, 960, 9360, 105840, 1370880, 19958400]\n"
                    ]
                }
            ],
            "metadata": {}
        },
        {
            "cell_type": "code",
            "execution_count": 5,
            "source": [
                "powers_of_products = [i**2 for i in fac_times_fib]\n",
                "print(powers_of_products)"
            ],
            "outputs": [
                {
                    "output_type": "stream",
                    "name": "stdout",
                    "text": [
                        "[1, 1, 16, 324, 14400, 921600, 87609600, 11202105600, 1879311974400, 398337730560000]\n"
                    ]
                }
            ],
            "metadata": {}
        },
        {
            "cell_type": "code",
            "execution_count": 6,
            "source": [
                "fibonacci_likes = [fibonacci_like(i) for i in range(10)]\n",
                "print(fibonacci_likes)"
            ],
            "outputs": [
                {
                    "output_type": "stream",
                    "name": "stdout",
                    "text": [
                        "[1, 1, 3, 5, 9, 17, 31, 57, 105, 193]\n"
                    ]
                }
            ],
            "metadata": {}
        },
        {
            "cell_type": "code",
            "execution_count": 11,
            "source": [
                "binomials = [[int(binomial(n,k)) for k in range(n+1)] for n in range(15)]\n",
                "for n in binomials:\n",
                "    print(n)"
            ],
            "outputs": [
                {
                    "output_type": "stream",
                    "name": "stdout",
                    "text": [
                        "[1]\n",
                        "[1, 1]\n",
                        "[1, 2, 1]\n",
                        "[1, 3, 3, 1]\n",
                        "[1, 4, 6, 4, 1]\n",
                        "[1, 5, 10, 10, 5, 1]\n",
                        "[1, 6, 15, 20, 15, 6, 1]\n",
                        "[1, 7, 21, 35, 35, 21, 7, 1]\n",
                        "[1, 8, 28, 56, 70, 56, 28, 8, 1]\n",
                        "[1, 9, 36, 84, 126, 126, 84, 36, 9, 1]\n",
                        "[1, 10, 45, 120, 210, 252, 210, 120, 45, 10, 1]\n",
                        "[1, 11, 55, 165, 330, 462, 462, 330, 165, 55, 11, 1]\n",
                        "[1, 12, 66, 220, 495, 792, 924, 792, 495, 220, 66, 12, 1]\n",
                        "[1, 13, 78, 286, 715, 1287, 1716, 1716, 1287, 715, 286, 78, 13, 1]\n",
                        "[1, 14, 91, 364, 1001, 2002, 3003, 3432, 3003, 2002, 1001, 364, 91, 14, 1]\n"
                    ]
                }
            ],
            "metadata": {}
        },
        {
            "cell_type": "markdown",
            "source": [
                "#### Something is wrong with that fibbonacci_like function! It is fixed now."
            ],
            "metadata": {}
        },
        {
            "cell_type": "code",
            "execution_count": 12,
            "source": [
                "import some_functions\n",
                "\n",
                "some_functions.__name__"
            ],
            "outputs": [
                {
                    "output_type": "execute_result",
                    "data": {
                        "text/plain": [
                            "'some_functions'"
                        ]
                    },
                    "metadata": {},
                    "execution_count": 12
                }
            ],
            "metadata": {}
        },
        {
            "cell_type": "code",
            "execution_count": 13,
            "source": [
                "import my_first_module"
            ],
            "outputs": [],
            "metadata": {}
        },
        {
            "cell_type": "code",
            "execution_count": 14,
            "source": [
                "from my_first_module import some_functions_in_first_module"
            ],
            "outputs": [],
            "metadata": {}
        },
        {
            "cell_type": "code",
            "execution_count": 15,
            "source": [
                "print_da_bla = some_functions_in_first_module.print_bla"
            ],
            "outputs": [],
            "metadata": {}
        },
        {
            "cell_type": "code",
            "execution_count": 11,
            "source": [
                "print_da_bla()"
            ],
            "outputs": [
                {
                    "output_type": "stream",
                    "name": "stdout",
                    "text": [
                        "bla\n"
                    ]
                }
            ],
            "metadata": {}
        },
        {
            "cell_type": "code",
            "execution_count": 16,
            "source": [
                "dir(my_first_module)"
            ],
            "outputs": [
                {
                    "output_type": "execute_result",
                    "data": {
                        "text/plain": [
                            "['__builtins__',\n",
                            " '__cached__',\n",
                            " '__doc__',\n",
                            " '__file__',\n",
                            " '__loader__',\n",
                            " '__name__',\n",
                            " '__package__',\n",
                            " '__path__',\n",
                            " '__spec__',\n",
                            " 'some_functions_in_first_module']"
                        ]
                    },
                    "metadata": {},
                    "execution_count": 16
                }
            ],
            "metadata": {}
        },
        {
            "cell_type": "code",
            "execution_count": 17,
            "source": [
                "dir(some_functions_in_first_module)"
            ],
            "outputs": [
                {
                    "output_type": "execute_result",
                    "data": {
                        "text/plain": [
                            "['__builtins__',\n",
                            " '__cached__',\n",
                            " '__doc__',\n",
                            " '__file__',\n",
                            " '__loader__',\n",
                            " '__name__',\n",
                            " '__package__',\n",
                            " '__spec__',\n",
                            " 'print_bla',\n",
                            " 'print_blabla']"
                        ]
                    },
                    "metadata": {},
                    "execution_count": 17
                }
            ],
            "metadata": {}
        },
        {
            "cell_type": "code",
            "execution_count": null,
            "source": [],
            "outputs": [],
            "metadata": {}
        }
    ],
    "metadata": {
        "orig_nbformat": 4,
        "language_info": {
            "name": "python",
            "version": "3.8.10",
            "mimetype": "text/x-python",
            "codemirror_mode": {
                "name": "ipython",
                "version": 3
            },
            "pygments_lexer": "ipython3",
            "nbconvert_exporter": "python",
            "file_extension": ".py"
        },
        "kernelspec": {
            "name": "python3",
            "display_name": "Python 3.8.10 64-bit ('base': conda)"
        },
        "interpreter": {
            "hash": "7fe42b790bfbec5d7cfc138f2bfd1724919e0a25f3e83548056356cdd911a40a"
        }
    },
    "nbformat": 4,
    "nbformat_minor": 2
}